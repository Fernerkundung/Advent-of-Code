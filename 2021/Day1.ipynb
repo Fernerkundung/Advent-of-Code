{
 "cells": [
  {
   "cell_type": "markdown",
   "id": "0f616bb8-0440-4399-b9b1-34feb4137cba",
   "metadata": {},
   "source": [
    "# Day 1\n",
    "\n",
    "Counting the number of times a depth measurement increases --> count number o"
   ]
  },
  {
   "cell_type": "code",
   "execution_count": 5,
   "id": "db00f7e9-dcb7-46bb-b8dd-f5bbbea39828",
   "metadata": {},
   "outputs": [],
   "source": [
    "in_path = \"data/day1.txt\"\n",
    "\n",
    "with open(in_path, \"r\") as in_file:\n",
    "    in_data = in_file.readlines()\n",
    "    in_data = [int(x) for x in in_data]"
   ]
  },
  {
   "cell_type": "code",
   "execution_count": 14,
   "id": "b0be534a-3049-473f-9ea2-8eae12026aee",
   "metadata": {},
   "outputs": [],
   "source": [
    "# sum increasing pairs\n",
    "sumpair = sum(y > x for x, y in zip(in_data, in_data[1:]))"
   ]
  },
  {
   "cell_type": "code",
   "execution_count": 15,
   "id": "175b2ef2-9bfe-442c-be8d-17d18205582d",
   "metadata": {},
   "outputs": [
    {
     "data": {
      "text/plain": [
       "1655"
      ]
     },
     "execution_count": 15,
     "metadata": {},
     "output_type": "execute_result"
    }
   ],
   "source": [
    "sumpair"
   ]
  },
  {
   "cell_type": "markdown",
   "id": "3a1b2617-b434-473e-8587-28d090ac76f9",
   "metadata": {},
   "source": [
    "Part 2\n",
    "\n",
    "calculate the sum of increasing depth over 3-measurement sliding window\n",
    "- create triplets and iterate 1 right, comparing to previious triplet\n",
    "- in a row a+b+c+d we want to know if a+b+c > b+c+d (can be shortened to a+c > b+d since b is present in both and we don't care for the actual value)"
   ]
  },
  {
   "cell_type": "code",
   "execution_count": 18,
   "id": "ff9e4e28-da1b-4457-8dfd-a0ae0d24d7b9",
   "metadata": {},
   "outputs": [],
   "source": [
    "# starting values\n",
    "sumtrip = 0\n",
    "prevtrip = float(\"inf\") # placeholder for highest possible value to not count the first\n",
    "\n",
    "for wintrip in map(sum, zip(in_data, in_data[1:], in_data[2:])):\n",
    "    if wintrip > prevtrip:\n",
    "        sumtrip += 1\n",
    "    prevtrip = wintrip"
   ]
  },
  {
   "cell_type": "code",
   "execution_count": 19,
   "id": "cc5f01b9-154c-4735-9846-8dcba1a210d2",
   "metadata": {},
   "outputs": [
    {
     "name": "stdout",
     "output_type": "stream",
     "text": [
      "1683\n"
     ]
    }
   ],
   "source": [
    "print(sumtrip)"
   ]
  },
  {
   "cell_type": "code",
   "execution_count": null,
   "id": "3cd65c73-a760-4386-9861-44a7b4a1c63f",
   "metadata": {
    "jupyter": {
     "source_hidden": true
    },
    "tags": []
   },
   "outputs": [],
   "source": [
    "# "
   ]
  }
 ],
 "metadata": {
  "kernelspec": {
   "display_name": "Python 3 (ipykernel)",
   "language": "python",
   "name": "python3"
  },
  "language_info": {
   "codemirror_mode": {
    "name": "ipython",
    "version": 3
   },
   "file_extension": ".py",
   "mimetype": "text/x-python",
   "name": "python",
   "nbconvert_exporter": "python",
   "pygments_lexer": "ipython3",
   "version": "3.9.7"
  }
 },
 "nbformat": 4,
 "nbformat_minor": 5
}
