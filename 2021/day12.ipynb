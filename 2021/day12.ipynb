{
 "cells": [
  {
   "cell_type": "markdown",
   "id": "15a14df7-5c8a-4df7-8548-e24e7298352a",
   "metadata": {},
   "source": [
    "# Day 12\n",
    "\n",
    "- find all paths --> then determine best path\n",
    "- start and end are valid cave names and start/goal respectively\n",
    "- count distinct paths starting at start and ending at end\n",
    "- big caves caps, small caves lowercase\n",
    "- small caves only to be visited once, big caves multiple times\n",
    "\n",
    "--> depth first search\n",
    "- problem: big-type nodes allow multiple visits, small only 1\n"
   ]
  },
  {
   "cell_type": "code",
   "execution_count": 1,
   "id": "21f88b2b-bf5b-4f1b-b12c-f989f96262d3",
   "metadata": {},
   "outputs": [],
   "source": [
    "# build graph as dictionary using {node: list_of_neighbors} pattern (should work for undirected graphs)\n",
    "# rely on dict structure and in-builts to avoid duplicates\n",
    "\n",
    "from collections import defaultdict\n",
    "\n",
    "with open(\"data/day12.txt\") as in_file:\n",
    "    graph = defaultdict(list)\n",
    "    \n",
    "    for line in in_file.readlines():\n",
    "        from_node, to_node = line.rstrip().split(\"-\")\n",
    "        graph[from_node].append(to_node)\n",
    "        graph[to_node].append(from_node)"
   ]
  },
  {
   "cell_type": "code",
   "execution_count": 2,
   "id": "e8634c0e-f834-4163-8ec9-0af93bc84666",
   "metadata": {},
   "outputs": [
    {
     "data": {
      "text/plain": [
       "defaultdict(list,\n",
       "            {'nu': ['start', 'rt', 'ZH', 'qh', 'PE'],\n",
       "             'start': ['nu', 'rt', 'ZH'],\n",
       "             'rt': ['start', 'sl', 'ZH', 'nu'],\n",
       "             'db': ['qh', 'PE', 'sl', 'ZH', 'QG', 'uf'],\n",
       "             'qh': ['db', 'end', 'nu', 'PE', 'sl', 'ZH'],\n",
       "             'PE': ['end', 'db', 'qh', 'nu'],\n",
       "             'end': ['PE', 'qh', 'ne'],\n",
       "             'sl': ['rt', 'db', 'qh', 'ne'],\n",
       "             'ZH': ['rt', 'nu', 'db', 'ne', 'qh', 'start'],\n",
       "             'ne': ['end', 'ZH', 'sl'],\n",
       "             'QG': ['db'],\n",
       "             'uf': ['db']})"
      ]
     },
     "execution_count": 2,
     "metadata": {},
     "output_type": "execute_result"
    }
   ],
   "source": [
    "graph"
   ]
  },
  {
   "cell_type": "code",
   "execution_count": 3,
   "id": "96796c6f-4506-4e65-af46-6f9a57246772",
   "metadata": {},
   "outputs": [
    {
     "name": "stdout",
     "output_type": "stream",
     "text": [
      "4338\n"
     ]
    }
   ],
   "source": [
    "# resursive search\n",
    "def search(path):\n",
    "    count = 0\n",
    "    \n",
    "    # stop if last list element is end\n",
    "    if path[-1] == \"end\":\n",
    "            return 1\n",
    "    \n",
    "    # append to list if not in there of if big cave\n",
    "    for node in graph[path[-1]]:\n",
    "        if node.isupper() or node not in path:\n",
    "            count += search(path + [node])\n",
    "    \n",
    "    return count\n",
    "\n",
    "print(search([\"start\"]))"
   ]
  },
  {
   "cell_type": "markdown",
   "id": "56044272-74a6-4883-8746-8c0f86970049",
   "metadata": {},
   "source": [
    "## Part 2\n",
    "- 1 small cave can be visited 2 times, all other small caves only 1 time\n",
    "- big caves visited any number of times\n",
    "- start/end only visit once\n",
    "\n",
    "still a depth first search but now the small caves need to have a state"
   ]
  },
  {
   "cell_type": "code",
   "execution_count": 13,
   "id": "b561310f-4cdc-4df4-ba22-4872cb433185",
   "metadata": {},
   "outputs": [
    {
     "name": "stdout",
     "output_type": "stream",
     "text": [
      "114189\n"
     ]
    }
   ],
   "source": [
    "def search(path, visited_small_caves, allow_double_visit):\n",
    "    \"\"\"Recursively count the number of possible paths in the cave.\"\"\"\n",
    "    count = 0\n",
    "    # stop if last list element is end\n",
    "    if path[-1] == \"end\":\n",
    "        return 1\n",
    "    \n",
    "    for next_node in graph[path[-1]]:\n",
    "        next_allow_double_visit = allow_double_visit\n",
    "        if next_node in visited_small_caves:\n",
    "            if not allow_double_visit:\n",
    "                continue\n",
    "            elif next_node == \"start\":\n",
    "                continue\n",
    "            else:\n",
    "                # start with True - only allow 1 double visit to small cave\n",
    "                next_allow_double_visit = False\n",
    "        \n",
    "        # bitwise OR on set of small caves visited in this iteration\n",
    "        next_visited_small_caves = visited_small_caves | {next_node} if next_node.islower() else visited_small_caves    \n",
    "        path.append(next_node)\n",
    "        count += search(path, next_visited_small_caves, next_allow_double_visit)\n",
    "        path.pop() # remove from path to allow different double visits in recursion\n",
    "    return count\n",
    "\n",
    "print(search([\"start\"], {\"start\"}, allow_double_visit=True))"
   ]
  }
 ],
 "metadata": {
  "kernelspec": {
   "display_name": "Python 3 (ipykernel)",
   "language": "python",
   "name": "python3"
  },
  "language_info": {
   "codemirror_mode": {
    "name": "ipython",
    "version": 3
   },
   "file_extension": ".py",
   "mimetype": "text/x-python",
   "name": "python",
   "nbconvert_exporter": "python",
   "pygments_lexer": "ipython3",
   "version": "3.9.7"
  }
 },
 "nbformat": 4,
 "nbformat_minor": 5
}
