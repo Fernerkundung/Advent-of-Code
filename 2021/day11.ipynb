{
 "cells": [
  {
   "cell_type": "markdown",
   "id": "04eecb27-26b5-4cde-a7a4-79965ffad0f8",
   "metadata": {
    "tags": []
   },
   "source": [
    "# Day 11\n",
    "\n",
    "- step through grid\n",
    "- energy increase by 1 for each turn\n",
    "- energy > 9 --> flash --> +1 energy to neighbours (queens case) --> flashing octopus gets reset to 0\n",
    "- apply 100 steps and count number of flashes"
   ]
  },
  {
   "cell_type": "code",
   "execution_count": 9,
   "id": "66f21bbd-2265-4b3f-b5c1-c008f6184435",
   "metadata": {},
   "outputs": [],
   "source": [
    "import numpy as np"
   ]
  },
  {
   "cell_type": "code",
   "execution_count": 23,
   "id": "2bba8791-66e2-452e-9b49-226ed03f2b35",
   "metadata": {},
   "outputs": [],
   "source": [
    "in_path = \"data/day11.txt\"\n",
    "\n",
    "with open(in_path, \"r\") as in_file:\n",
    "    in_lines = in_file.readlines()\n",
    "    # in_data = [int(x) for x in in_lines.rstrip()]"
   ]
  },
  {
   "cell_type": "code",
   "execution_count": 24,
   "id": "135550fa-2280-43d1-b114-ab86e09193af",
   "metadata": {},
   "outputs": [],
   "source": [
    "in_data = []\n",
    "for line in in_lines:\n",
    "    in_data.append([int(x) for x in line.rstrip()])\n",
    "\n",
    "# numpy 2D array from nested list\n",
    "in_data = np.array(in_data)"
   ]
  },
  {
   "cell_type": "code",
   "execution_count": null,
   "id": "f72f80d9-6fb2-4d8d-8c69-33d580b60700",
   "metadata": {},
   "outputs": [],
   "source": []
  }
 ],
 "metadata": {
  "kernelspec": {
   "display_name": "Python 3 (ipykernel)",
   "language": "python",
   "name": "python3"
  },
  "language_info": {
   "codemirror_mode": {
    "name": "ipython",
    "version": 3
   },
   "file_extension": ".py",
   "mimetype": "text/x-python",
   "name": "python",
   "nbconvert_exporter": "python",
   "pygments_lexer": "ipython3",
   "version": "3.9.7"
  }
 },
 "nbformat": 4,
 "nbformat_minor": 5
}
