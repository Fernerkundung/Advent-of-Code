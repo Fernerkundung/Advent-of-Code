{
 "cells": [
  {
   "cell_type": "markdown",
   "id": "6393f60e-1b52-4be4-8e6f-fed1f5e5db79",
   "metadata": {},
   "source": [
    "# Day 9\n",
    "\n",
    "- gravity flow modelling --> cost distance matrix flowing to lowest minima\n",
    "- 9 highest, 0 lowest point\n",
    "- rooks case connection (4 neighbors)\n",
    "\n",
    "- each low point has a risk of 1 + height"
   ]
  },
  {
   "cell_type": "code",
   "execution_count": 57,
   "id": "c9e002e8-8219-4715-9500-a0b4d7d1a7c6",
   "metadata": {},
   "outputs": [],
   "source": [
    "import numpy as np"
   ]
  },
  {
   "cell_type": "code",
   "execution_count": 58,
   "id": "52d682b0-6c4d-45c5-9e4a-f3b0d0c77bce",
   "metadata": {},
   "outputs": [],
   "source": [
    "in_path = \"data/day9.txt\"\n",
    "\n",
    "with open(in_path, \"r\") as in_file:\n",
    "    in_lines = in_file.readlines()\n",
    "    # in_data = [int(x) for x in in_lines.rstrip()]\n",
    "    \n",
    "in_data = []\n",
    "for line in in_lines:\n",
    "    in_data.append([int(x) for x in line.rstrip()])\n",
    "\n",
    "# numpy 2D array from nested list\n",
    "# in_data = np.array(in_data)"
   ]
  },
  {
   "cell_type": "code",
   "execution_count": 59,
   "id": "1b5d7f99-ed24-48aa-a3bf-cba19b924d19",
   "metadata": {},
   "outputs": [],
   "source": [
    "arr_height = len(in_data)\n",
    "arr_width = len(in_data[0])"
   ]
  },
  {
   "cell_type": "code",
   "execution_count": 60,
   "id": "dc4619d8-7ebc-4423-8ded-e8a25e3abf07",
   "metadata": {},
   "outputs": [],
   "source": [
    "local_mins = []\n",
    "\n",
    "def get_rook_neighbors(x, y):\n",
    "    rook_neighbors = []\n",
    "    if x > 0:\n",
    "        rook_neighbors.append((x - 1, y))\n",
    "    if x < arr_width - 1:\n",
    "        rook_neighbors.append((x + 1, y))\n",
    "    if y > 0:\n",
    "        rook_neighbors.append((x, y - 1))\n",
    "    if y < arr_height - 1:\n",
    "        rook_neighbors.append((x, y + 1))\n",
    "    return rook_neighbors\n",
    "\n",
    "def is_low_point(x, y):\n",
    "    height = in_data[y][x]\n",
    "    rook_neighbors = get_rook_neighbors(x, y)\n",
    "    for point in rook_neighbors:\n",
    "        x, y = point\n",
    "        if height >= in_data[y][x]:\n",
    "            return False\n",
    "    return True"
   ]
  },
  {
   "cell_type": "code",
   "execution_count": 61,
   "id": "2a482983-1c72-4411-bf56-efdf90c9e43c",
   "metadata": {},
   "outputs": [
    {
     "name": "stdout",
     "output_type": "stream",
     "text": [
      "Total risk level: 436\n"
     ]
    }
   ],
   "source": [
    "total_risk_level = 0\n",
    "\n",
    "for y, row in enumerate(in_data):\n",
    "    for x, height in enumerate(row):\n",
    "        if is_low_point(x, y):\n",
    "            low_points.append((x, y))\n",
    "            risk_level = height + 1\n",
    "            total_risk_level += risk_level\n",
    "\n",
    "print(\"Total risk level:\", total_risk_level)"
   ]
  },
  {
   "cell_type": "markdown",
   "id": "2089b56b-9e73-4a1a-9094-efcb8355d4dc",
   "metadata": {},
   "source": [
    "Not using numpy for this solution for now - it was easier to stay in a list of lists. \n",
    "\n",
    "TODO: change to numpy array implementation later"
   ]
  },
  {
   "cell_type": "markdown",
   "id": "2312bbcf-2f9d-442a-84db-04a6fe917f27",
   "metadata": {},
   "source": [
    "## Part 2\n",
    "\n",
    "- find largest basin (i.e. inverse plateau)\n",
    "- regular minimum height pattern flow modelling"
   ]
  },
  {
   "cell_type": "code",
   "execution_count": null,
   "id": "9823d0ce-3fc8-4e8f-9556-df40e42e560f",
   "metadata": {},
   "outputs": [],
   "source": []
  },
  {
   "cell_type": "code",
   "execution_count": null,
   "id": "e31228a6-3ac1-4212-af99-734834e666ab",
   "metadata": {},
   "outputs": [],
   "source": []
  }
 ],
 "metadata": {
  "kernelspec": {
   "display_name": "Python 3 (ipykernel)",
   "language": "python",
   "name": "python3"
  },
  "language_info": {
   "codemirror_mode": {
    "name": "ipython",
    "version": 3
   },
   "file_extension": ".py",
   "mimetype": "text/x-python",
   "name": "python",
   "nbconvert_exporter": "python",
   "pygments_lexer": "ipython3",
   "version": "3.9.7"
  }
 },
 "nbformat": 4,
 "nbformat_minor": 5
}
