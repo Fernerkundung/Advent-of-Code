{
 "cells": [
  {
   "cell_type": "markdown",
   "id": "952561bf-6dce-48f4-baef-866f01aad87e",
   "metadata": {},
   "source": [
    "# Day 13\n",
    "\n",
    "- coordinates where dots are (binary mask in 2d array)\n",
    "- folding instructions at the end (flip to nD-array and then sum bools along axis 3 to arrive at new binary mask)\n",
    "\n",
    "## Part 1\n",
    "- complete the first fold and count the dots (fold along x=655)"
   ]
  },
  {
   "cell_type": "code",
   "execution_count": 63,
   "id": "0a35b706-f732-4b2c-a7cd-15e501afdd84",
   "metadata": {},
   "outputs": [],
   "source": [
    "import re\n",
    "import numpy as np"
   ]
  },
  {
   "cell_type": "code",
   "execution_count": 68,
   "id": "703d54fe-0d86-4d78-ab18-d19f610ac0d1",
   "metadata": {},
   "outputs": [],
   "source": [
    "in_path = \"data/day13.txt\"\n",
    "\n",
    "# regex to the rescue!\n",
    "with open(in_path, \"r\") as in_file:\n",
    "    point_list = re.findall('([0-9]+),([0-9]+)', in_file.read())  # nums separated by comma\n",
    "    points = [[int(point[0]), int(point[1])] for point in point_list]\n",
    "with open(in_path, \"r\") as in_file:\n",
    "    fold_list = re.findall('([xy])=([0-9]+)', in_file.read())  # x or y and num combined by equal sign\n",
    "    folds = [[str(fold[0]), int(fold[1])] for fold in fold_list]"
   ]
  },
  {
   "cell_type": "code",
   "execution_count": 80,
   "id": "25a470db-ff49-4312-b85e-fd4d276bcf83",
   "metadata": {},
   "outputs": [],
   "source": [
    "# build empty array to fill binary point mask in\n",
    "arr = np.zeros((10000, 10000), dtype=np.uint16)\n",
    "\n",
    "for x, y in points:\n",
    "    arr[y, x] = 1"
   ]
  },
  {
   "cell_type": "code",
   "execution_count": 81,
   "id": "fe81e5d5-c94a-4598-8bd8-921ce1a53d96",
   "metadata": {},
   "outputs": [
    {
     "name": "stdout",
     "output_type": "stream",
     "text": [
      "sum after first fold:  770\n"
     ]
    }
   ],
   "source": [
    "# fold along x and y\n",
    "\n",
    "for i, (ax, loc) in enumerate(folds):\n",
    "    if ax == \"x\":\n",
    "        # splice array along axis to fold location\n",
    "        arr1 = arr[:,:loc]\n",
    "        arr2 = arr[:,2*loc:loc:-1]  # \"I put my thing down, flip it and reverse it\"\n",
    "    elif ax == \"y\":\n",
    "        arr1 = arr[:loc,:]\n",
    "        arr2 = arr[2*loc:loc:-1,:]\n",
    "    \n",
    "    arr = np.clip(arr1 + arr2, 0, 1)  # sum folded arrays, limit to binary mask again\n",
    "    # print first fold but keep folding\n",
    "    if i == 0:\n",
    "        print(\"sum after first fold: \", np.sum(arr))"
   ]
  },
  {
   "cell_type": "markdown",
   "id": "ceb4a1d1-60af-4998-b3df-b9bcef70427f",
   "metadata": {},
   "source": [
    "## Part 2\n",
    "\n",
    "Print the array to see 8 capital letters that are the solution for part 2."
   ]
  },
  {
   "cell_type": "code",
   "execution_count": 78,
   "id": "bccf1154-3af1-446b-9206-6eedaaa46a5f",
   "metadata": {},
   "outputs": [
    {
     "data": {
      "image/png": "[encoded data removed]",
      "text/plain": [
       "<Figure size 432x288 with 1 Axes>"
      ]
     },
     "metadata": {
      "needs_background": "light"
     },
     "output_type": "display_data"
    }
   ],
   "source": [
    "%matplotlib inline \n",
    "\n",
    "from matplotlib import pyplot as plt\n",
    "plt.imshow(arr, interpolation='nearest')\n",
    "plt.show()"
   ]
  }
 ],
 "metadata": {
  "kernelspec": {
   "display_name": "Python 3 (ipykernel)",
   "language": "python",
   "name": "python3"
  },
  "language_info": {
   "codemirror_mode": {
    "name": "ipython",
    "version": 3
   },
   "file_extension": ".py",
   "mimetype": "text/x-python",
   "name": "python",
   "nbconvert_exporter": "python",
   "pygments_lexer": "ipython3",
   "version": "3.9.7"
  }
 },
 "nbformat": 4,
 "nbformat_minor": 5
}
